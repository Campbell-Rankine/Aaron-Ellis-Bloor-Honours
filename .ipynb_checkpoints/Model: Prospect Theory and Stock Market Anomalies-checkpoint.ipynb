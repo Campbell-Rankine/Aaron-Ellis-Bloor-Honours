{
 "cells": [
  {
   "cell_type": "code",
   "execution_count": 1,
   "id": "0c5570f8",
   "metadata": {},
   "outputs": [],
   "source": [
    "import numpy as np\n",
    "import pandas as pd\n",
    "import scipy\n",
    "import math\n",
    "from scipy import special\n",
    "from sympy import symbols, Eq, nsolve, sqrt\n",
    "from matplotlib import pyplot as plt"
   ]
  },
  {
   "cell_type": "markdown",
   "id": "e477b2a0",
   "metadata": {},
   "source": [
    "# Model Assumptions"
   ]
  },
  {
   "cell_type": "code",
   "execution_count": 2,
   "id": "195e208c",
   "metadata": {},
   "outputs": [],
   "source": [
    "# Distribution parameters\n",
    "v = 7.5\n",
    "\n",
    "# Asset parameters\n",
    "Rf = 1 # Gross interest rate\n",
    "γ_hat = 0.6 # Portfolio risk aversion\n",
    "σ_M = 0.25 # Volatility of market returns\n",
    "\n",
    "# Prospect Theory parameters\n",
    "α = 0.7 # Dimishing sensitivity parameter\n",
    "δ = 0.65 # Probability weighting parameter\n",
    "λ = 1.5 # Loss averse parameter\n",
    "b_hat = 0.6 # Prospect theory term"
   ]
  },
  {
   "cell_type": "markdown",
   "id": "05216736",
   "metadata": {},
   "source": [
    "# Data Inputs"
   ]
  },
  {
   "cell_type": "code",
   "execution_count": 3,
   "id": "60863ff3",
   "metadata": {},
   "outputs": [
    {
     "data": {
      "text/html": [
       "<div>\n",
       "<style scoped>\n",
       "    .dataframe tbody tr th:only-of-type {\n",
       "        vertical-align: middle;\n",
       "    }\n",
       "\n",
       "    .dataframe tbody tr th {\n",
       "        vertical-align: top;\n",
       "    }\n",
       "\n",
       "    .dataframe thead th {\n",
       "        text-align: right;\n",
       "    }\n",
       "</style>\n",
       "<table border=\"1\" class=\"dataframe\">\n",
       "  <thead>\n",
       "    <tr style=\"text-align: right;\">\n",
       "      <th></th>\n",
       "      <th>Return</th>\n",
       "      <th>StDev</th>\n",
       "      <th>Skew</th>\n",
       "      <th>Overhang</th>\n",
       "      <th>Beta</th>\n",
       "      <th>Capitalisation</th>\n",
       "    </tr>\n",
       "  </thead>\n",
       "  <tbody>\n",
       "    <tr>\n",
       "      <th>0</th>\n",
       "      <td>0.009404</td>\n",
       "      <td>0.368488</td>\n",
       "      <td>2.468040</td>\n",
       "      <td>0.104735</td>\n",
       "      <td>0.842076</td>\n",
       "      <td>0.4</td>\n",
       "    </tr>\n",
       "    <tr>\n",
       "      <th>1</th>\n",
       "      <td>-0.002700</td>\n",
       "      <td>0.943178</td>\n",
       "      <td>3.790273</td>\n",
       "      <td>-0.316220</td>\n",
       "      <td>1.126670</td>\n",
       "      <td>0.6</td>\n",
       "    </tr>\n",
       "  </tbody>\n",
       "</table>\n",
       "</div>"
      ],
      "text/plain": [
       "     Return     StDev      Skew  Overhang      Beta  Capitalisation\n",
       "0  0.009404  0.368488  2.468040  0.104735  0.842076             0.4\n",
       "1 -0.002700  0.943178  3.790273 -0.316220  1.126670             0.6"
      ]
     },
     "execution_count": 3,
     "metadata": {},
     "output_type": "execute_result"
    }
   ],
   "source": [
    "df = pd.read_excel(\"empirical_input.xls\")\n",
    "inputs = df.iloc[[0, -1]].reset_index(drop = True)\n",
    "inputs[\"Capitalisation\"] = [0.4, 0.6]\n",
    "\n",
    "inputs"
   ]
  },
  {
   "cell_type": "markdown",
   "id": "9d226425",
   "metadata": {},
   "source": [
    "# Parameter Solving"
   ]
  },
  {
   "cell_type": "markdown",
   "id": "2582e590",
   "metadata": {},
   "source": [
    "The mean, variance and skewness of the distribution are \n",
    "$$\\begin{align}\n",
    "E(\\tilde{R_i})=\\bar{R_i}&= \\mu_i + \\frac{v}{v-2}\\zeta_i\\\\\n",
    "Var(\\tilde{R_i}) &= \\frac{v}{v-2} S_i + \\frac{2v^2}{(v-2)^2(v-4)}\\zeta_i^2\\\\\n",
    "Skew(\\tilde{R_i}) &= \\frac{2\\zeta_i\\sqrt{v(v-4)}}{\\sqrt{S_i}(2v\\zeta_i^2/S_i+(v-2)(v-4))^{\\frac{3}{2}}}\\bigg(3(v-2)+\\frac{8v\\zeta_i^2}{S_i(v-6)}\\bigg)\n",
    "\\end{align}$$"
   ]
  },
  {
   "cell_type": "code",
   "execution_count": 4,
   "id": "4b0e9dea",
   "metadata": {},
   "outputs": [],
   "source": [
    "def E(μ, ζ):\n",
    "    \"\"\"Mean of distribution\"\"\"\n",
    "    mean = μ + (v/(v-2))*ζ\n",
    "    return mean\n",
    "\n",
    "def var(ζ, sqrt_S):\n",
    "    \"\"\"Variance of distribution\"\"\"\n",
    "    var = (v/(v-2))*(sqrt_S**2) + (2 * (ζ**2) * (v**2)) / (v-4) / ((v-2)**2)\n",
    "    return var\n",
    "\n",
    "def skew(ζ, sqrt_S):\n",
    "    \"\"\"Skewness of distribution\"\"\"\n",
    "    skew = (3*(v-2)+((8*v*(ζ**2))/(v-6)/((sqrt_S)**2))) * (2*ζ*sqrt(v*(v-4))) / (sqrt_S) / ((2*v*(ζ**2)/(sqrt_S**2)) + (v-2)*(v-4))**(1.5)\n",
    "    return skew"
   ]
  },
  {
   "cell_type": "markdown",
   "id": "5f492b3d",
   "metadata": {},
   "source": [
    "We need to solve simultaneous equations by finding $S_i$ and $\\zeta_i$ such that those values make the distribution have variance and skewness that matches the empirical data of that asset."
   ]
  },
  {
   "cell_type": "code",
   "execution_count": 5,
   "id": "6947aea9",
   "metadata": {},
   "outputs": [],
   "source": [
    "def parameter_solver(StDev, Skew):\n",
    "    \"\"\"Finds ζ and sqrt_S so that variance and skewness match\"\"\"\n",
    "    ζ1, sqrt_S1 = symbols('ζ1, sqrt_S1') # The variables\n",
    "    eq1 = Eq(var(ζ1, sqrt_S1), StDev**2) \n",
    "    eq2 = Eq(skew(ζ1, sqrt_S1), Skew) \n",
    "    result = nsolve([eq1, eq2], [ζ1, sqrt_S1], [1, 1]) # Solve simultaneous equation\n",
    "    return result"
   ]
  },
  {
   "cell_type": "code",
   "execution_count": 6,
   "id": "64987a82",
   "metadata": {},
   "outputs": [],
   "source": [
    "# Create empty arrays\n",
    "result = np.empty([len(inputs),2])\n",
    "\n",
    "# Populate arrays with results of parameter_solver\n",
    "for i in range(len(inputs)):\n",
    "    result[i:,] = list(parameter_solver(inputs[\"StDev\"][i], inputs[\"Skew\"][i]))\n",
    "\n",
    "# Create dataframe\n",
    "column_values = ['ζ', 'sqrt_S']\n",
    "output = pd.DataFrame(data = result, columns = column_values)"
   ]
  },
  {
   "cell_type": "code",
   "execution_count": 7,
   "id": "98f83944",
   "metadata": {},
   "outputs": [
    {
     "data": {
      "text/html": [
       "<div>\n",
       "<style scoped>\n",
       "    .dataframe tbody tr th:only-of-type {\n",
       "        vertical-align: middle;\n",
       "    }\n",
       "\n",
       "    .dataframe tbody tr th {\n",
       "        vertical-align: top;\n",
       "    }\n",
       "\n",
       "    .dataframe thead th {\n",
       "        text-align: right;\n",
       "    }\n",
       "</style>\n",
       "<table border=\"1\" class=\"dataframe\">\n",
       "  <thead>\n",
       "    <tr style=\"text-align: right;\">\n",
       "      <th></th>\n",
       "      <th>ζ</th>\n",
       "      <th>sqrt_S</th>\n",
       "    </tr>\n",
       "  </thead>\n",
       "  <tbody>\n",
       "    <tr>\n",
       "      <th>0</th>\n",
       "      <td>0.217965</td>\n",
       "      <td>0.250109</td>\n",
       "    </tr>\n",
       "    <tr>\n",
       "      <th>1</th>\n",
       "      <td>0.692359</td>\n",
       "      <td>0.528048</td>\n",
       "    </tr>\n",
       "  </tbody>\n",
       "</table>\n",
       "</div>"
      ],
      "text/plain": [
       "          ζ    sqrt_S\n",
       "0  0.217965  0.250109\n",
       "1  0.692359  0.528048"
      ]
     },
     "execution_count": 7,
     "metadata": {},
     "output_type": "execute_result"
    }
   ],
   "source": [
    "output"
   ]
  },
  {
   "cell_type": "markdown",
   "id": "6e0ce2cc",
   "metadata": {},
   "source": [
    "# Distributions\n",
    "\n",
    "Define the increment, the lower limit, and the upper limit for numerical integration"
   ]
  },
  {
   "cell_type": "code",
   "execution_count": 8,
   "id": "2fc3bf1d",
   "metadata": {},
   "outputs": [],
   "source": [
    "delta_r = 1/400 # Width of increment\n",
    "lower_limit = -100\n",
    "upper_limit = 100\n",
    "\n",
    "num = (upper_limit - lower_limit) / delta_r + 1 # Number of spaces in vector\n",
    "ret_vec = list(np.linspace(lower_limit, upper_limit, int(num))) # Discretised return vector\n",
    "\n",
    "M = len(ret_vec) # Length of vector"
   ]
  },
  {
   "cell_type": "markdown",
   "id": "1a555771",
   "metadata": {},
   "source": [
    "### Probability Density Function\n",
    "\n",
    "Each distribution has a one-dimensional generalised hyperbolic skewed t distribution, with density function\n",
    "\n",
    "$$\n",
    "p(R_i) = \\frac{2^{1-\\frac{v+1}{2}}}{\\Gamma(\\frac{v}{2})(\\pi v S_i)^{\\frac{1}{2}}}\n",
    "\\cdot \\frac{K_{\\frac{v+1}{2}}\\bigg(\\sqrt{(v+(R_i-\\mu_i)^2/S_i)\\zeta_i^2/S_i)}\\bigg)\\text{exp}((R_i-\\mu_i)\\zeta_i/S_i)}{\\bigg(\\sqrt{(v+(R_i-\\mu_i)^2/S_i)\\zeta_i^2/S_i)}\\bigg)^{-\\frac{v+1}{2}}(1+(R_i-\\mu_i)^2v^{-1}/S_i)^{\\frac{v+1}{2}}}\n",
    "$$\n",
    "for $\\zeta\\neq 0$, and \n",
    "$$\n",
    "p(R_i) = \\frac{\\Gamma(\\frac{v+1}{2})}{\\Gamma(\\frac{v}{2})(\\pi vS_i)^{\\frac{1}{2}}}\\cdot\n",
    "(1+(R_i-\\mu_i)^2v^{-1}/S_i)^{\\frac{v+1}{2}}\n",
    "$$\n",
    "for $\\zeta_i=0$."
   ]
  },
  {
   "cell_type": "code",
   "execution_count": 9,
   "id": "c3ec0597",
   "metadata": {},
   "outputs": [],
   "source": [
    "# Create functions of parts of the above function to simplify the next cell\n",
    "\n",
    "def sqrt_function(R, μ, ζ, sqrt_S):\n",
    "    \"\"\"Creating the sqrt part above\"\"\"\n",
    "    result = ((v + (R - μ)**2 / (sqrt_S**2)) * (ζ**2) / (sqrt_S**2))\n",
    "    return np.sqrt(result).astype(float)\n",
    "\n",
    "def vplus1_function(R, μ, ζ, sqrt_S):\n",
    "    \"\"\"Creating the (v+1)/2 function\"\"\"\n",
    "    result = 1 + ((R - μ)**2 / (sqrt_S**2) / v)\n",
    "    return result**((v+1)/2)\n",
    "\n",
    "def gamma_function(sqrt_S):\n",
    "    \"\"\"Creating denominator\"\"\"\n",
    "    result = np.pi * v * (sqrt_S**2)\n",
    "    return scipy.special.gamma(v/2) * result**0.5\n",
    "\n",
    "def exp_function(R, μ, ζ, sqrt_S):\n",
    "    \"\"\"Creating exp part\"\"\"\n",
    "    result = float((R - μ) * ζ / (sqrt_S**2))\n",
    "    return np.exp(result)"
   ]
  },
  {
   "cell_type": "code",
   "execution_count": 10,
   "id": "64a1bd86",
   "metadata": {},
   "outputs": [],
   "source": [
    "def bessel(R, μ, ζ, sqrt_S):\n",
    "    '''bessel function'''\n",
    "    result = scipy.special.kv((v+1)/2, sqrt_function(R, μ, sqrt_S, ζ))\n",
    "    return result\n"
   ]
  },
  {
   "cell_type": "code",
   "execution_count": 11,
   "id": "a4d5acf5",
   "metadata": {
    "scrolled": true
   },
   "outputs": [
    {
     "data": {
      "text/plain": [
       "2.7386127875258306"
      ]
     },
     "execution_count": 11,
     "metadata": {},
     "output_type": "execute_result"
    }
   ],
   "source": [
    "sqrt_function(1,1,0.2,0.2)"
   ]
  },
  {
   "cell_type": "code",
   "execution_count": 12,
   "id": "7b6f709a",
   "metadata": {},
   "outputs": [
    {
     "data": {
      "text/plain": [
       "0.644544999311214"
      ]
     },
     "execution_count": 12,
     "metadata": {},
     "output_type": "execute_result"
    }
   ],
   "source": [
    "bessel(1,1,0.2,0.2)"
   ]
  },
  {
   "cell_type": "code",
   "execution_count": 13,
   "id": "9d5b5fc4",
   "metadata": {},
   "outputs": [],
   "source": [
    "def pdf(R, μ, ζ, sqrt_S):\n",
    "    \"\"\"Point by point pdf. This creates the above function taking in a specific R as an argument\"\"\"\n",
    "    if ζ == 0:\n",
    "        density = scipy.special.gamma((v+1)/2) * vplus1_function(R, μ, ζ, sqrt_S) / gamma_function(sqrt_S)\n",
    "    else: \n",
    "        density = (2**(1-((v+1)/2))) * bessel(R, μ, ζ, sqrt_S) * exp_function(R, μ, ζ, sqrt_S) / gamma_function(sqrt_S) / (sqrt_function(R, μ, sqrt_S, ζ)**(-(v+1)/2)) / vplus1_function(R, μ, ζ, sqrt_S)\n",
    "    return density\n",
    "\n",
    "def pdf_total(μ, ζ, sqrt_S):\n",
    "    \"\"\"Creating the distribution for an asset with parameters μ, ζ, sqrt_S\"\"\"\n",
    "    outputs = np.array([pdf(R, μ, ζ, sqrt_S) for R in ret_vec])\n",
    "    return outputs\n",
    "\n",
    "def cdf_total(μ, ζ, sqrt_S):\n",
    "    \"\"\"Creates the CDF for an asset with parameters μ, ζ, sqrt_S\"\"\"\n",
    "    return np.cumsum(pdf_total(μ, ζ, sqrt_S)) * delta_r"
   ]
  },
  {
   "cell_type": "markdown",
   "id": "ef0133f7",
   "metadata": {},
   "source": [
    "# Prospect Theory"
   ]
  },
  {
   "cell_type": "markdown",
   "id": "8d33cb49",
   "metadata": {},
   "source": [
    "The value function is $$v(x)=\\begin{cases}x^{\\alpha}, & x\\geq 0\\\\-\\lambda(-x)^{\\alpha},&x<0\\end{cases}$$\n",
    "\n",
    "The probability weighting function is \n",
    "$$\n",
    "w(P)=\\frac{P^{\\delta}}{(P^{\\delta}+(1-P)^{\\delta})^{1/\\delta}}\n",
    "$$"
   ]
  },
  {
   "cell_type": "markdown",
   "id": "c0eec63b",
   "metadata": {},
   "source": [
    "The quantity $V(\\tilde{G_i})$ is the cumulative prospect theory value of the gain or loss $\\tilde{G_i}$. For $\\Theta_i>0$, we have \n",
    "\\begin{align*}\n",
    "V(\\tilde{G_i})&=-\\lambda \\int\\limits_{-\\infty}^{R_f-\\theta_{i,-1}g_i/\\theta_i} (\\theta_i(R_f-R_i)-\\theta_{i,-1}g_i)^{\\alpha} dw(P(R_i))\\\\&-\\int\\limits_{R_f-\\theta_{i,-1}g_i/\\theta_i}^{\\infty} (\\theta_i(R_i-R_f)+\\theta_{i,-1}g_i)^{\\alpha} dw(1-P(R_i))\n",
    "\\end{align*}\n",
    "________________________"
   ]
  },
  {
   "cell_type": "markdown",
   "id": "e1219ecd",
   "metadata": {},
   "source": [
    "The integrated gain/loss for asset $i$ for the cumulative prospect theory term in scaled down objective function\n",
    "$$\n",
    "\\theta_i(\\tilde{R_i}-R_f)+\\theta_{i,-1}g_i.\n",
    "$$"
   ]
  },
  {
   "cell_type": "markdown",
   "id": "03072d1e",
   "metadata": {},
   "source": [
    "#### Loss: \n",
    "We have $$dw(P(R_i))=\\frac{dw(P(R_i))}{dP(R_i)}\\frac{dP(R_i)}{dR_i}dR_i$$\n",
    "with \n",
    "$$\n",
    "\\frac{dw(P(R_i))}{dP(R_i)}=\\frac{\\delta P^{\\delta -1}(P^{\\delta}+(1-P)^{\\delta})-P^{\\delta}(P^{\\delta-1}-(1-P)^{\\delta-1})}{(P^{\\delta}+(1-P)^{\\delta})^{1+\\frac{1}{\\delta}}}\n",
    "$$\n",
    "using $P$ as short-hand for $P(R_i)$\n",
    "___________"
   ]
  },
  {
   "cell_type": "markdown",
   "id": "a2730344",
   "metadata": {},
   "source": [
    "#### Gain:\n",
    "We have $$dw(1-P(R_i))=\\frac{dw(1-P(R_i))}{dP(R_i)}\\frac{dP(R_i)}{dR_i}dR_i$$\n",
    "with \n",
    "$$\n",
    "\\frac{dw(1-P(R_i))}{dP(R_i)}=\\frac{\\delta (1-P)^{\\delta -1}(P^{\\delta}+(1-P)^{\\delta})-(1-P)^{\\delta}((1-P)^{\\delta-1}-P^{\\delta-1})}{(P^{\\delta}+(1-P)^{\\delta})^{1+\\frac{1}{\\delta}}}\n",
    "$$\n",
    "using $P$ as short-hand for $P(R_i)$\n",
    "___________"
   ]
  },
  {
   "cell_type": "code",
   "execution_count": 14,
   "id": "c15982b2",
   "metadata": {},
   "outputs": [],
   "source": [
    "def Gain(R, cgo, θ_M, θ):\n",
    "    \"\"\"Gain/loss of asset i given outcome of random variable Ri\"\"\"\n",
    "    return θ * (R - Rf) + θ_M * cgo\n",
    "\n",
    "def derivative_loss(P):\n",
    "    \"\"\"dw(P(R))/d(P(R))\"\"\"\n",
    "    numerator = (δ * P**(δ-1)) * (P**δ + (1-P)**δ) - P**δ * (P**(δ-1) - (1-P)**(δ-1))\n",
    "    denominator = (P**δ + (1-P)**δ) ** (1+1/δ)\n",
    "    derivative = numerator / denominator\n",
    "    return derivative\n",
    "\n",
    "def derivative_gain(P):\n",
    "    \"\"\"dw(1-P(R))/d(P(R))\"\"\"\n",
    "    numerator = (δ * (1-P)**(δ-1)) * (P**δ + (1-P)**δ) - (1-P)**δ * ((1-P)**(δ-1) - P**(δ-1))\n",
    "    denominator = (P**δ + (1-P)**δ) ** (1 + 1/δ)\n",
    "    derivative = numerator / denominator\n",
    "    return derivative"
   ]
  },
  {
   "cell_type": "markdown",
   "id": "3a84e48d",
   "metadata": {},
   "source": [
    "###  Cumulative Prospect Theory term"
   ]
  },
  {
   "cell_type": "code",
   "execution_count": 15,
   "id": "87f16517",
   "metadata": {},
   "outputs": [],
   "source": [
    "def cutoff_index(cgo, θ_M, θ):\n",
    "    \"\"\"Returns\"\"\"\n",
    "    cutoff = Rf - cgo * θ_M / θ\n",
    "    m = min(R for R in ret_vec if R >= cutoff) # minimum value in ret_vec closest to R\n",
    "    idx = ret_vec.index(m) # Index of m used to find \n",
    "    return idx"
   ]
  },
  {
   "cell_type": "code",
   "execution_count": 16,
   "id": "54f9130b",
   "metadata": {},
   "outputs": [],
   "source": [
    "def CPT(μ, ζ, sqrt_S, cgo, θ_M, θ):\n",
    "    \"\"\"Calculates CPT term for asset with parameters above\"\"\"\n",
    "    \n",
    "    idx = cutoff_index(cgo, θ, θ_M)\n",
    "    \n",
    "    pdf = pdf_total(μ, ζ, sqrt_S)\n",
    "    cdf = cdf_total(μ, ζ, sqrt_S)\n",
    "   \n",
    "    # Gains\n",
    "\n",
    "    gains_skew_dist_pdf = pdf[idx:]\n",
    "    gains_skew_dist_cdf = cdf[idx:]\n",
    "    gains_ret_vec_sub = ret_vec[idx:]\n",
    "    \n",
    "    gains_vector = [((Gain(R, θ, θ_M, cgo))**α * p * P) \n",
    "                    for R, p, P in zip(gains_ret_vec_sub, gains_skew_dist_pdf, gains_skew_dist_cdf)]\n",
    "    gains = sum(gains_vector) * delta_r\n",
    "    \n",
    "    # Losses\n",
    "    \n",
    "    losses_skew_dist_pdf = pdf[:idx-1]\n",
    "    losses_skew_dist_cdf = cdf[:idx-1]\n",
    "    losses_ret_vec_sub = ret_vec[:idx-1]\n",
    "    \n",
    "    losses_vector = [((-λ*(-Gain(R, θ, θ_M, cgo))**α) * p * P) \n",
    "                     for R, p, P in zip(losses_ret_vec_sub, losses_skew_dist_pdf, losses_skew_dist_cdf)]\n",
    "    losses = sum(losses_vector) * delta_r\n",
    "\n",
    "    return gains + losses"
   ]
  },
  {
   "cell_type": "markdown",
   "id": "dd64481d",
   "metadata": {},
   "source": [
    "# Solve for initial guess of mu assuming homogeneous holdings"
   ]
  },
  {
   "cell_type": "code",
   "execution_count": 17,
   "id": "6aeee9be",
   "metadata": {},
   "outputs": [],
   "source": [
    "def CPT_theta_epsilon(μ, ζ, sqrt_S, cgo, θ_M, ϵ = 0):\n",
    "    \"\"\"Returns the CPT term when an investor chooses θ to be equal to θ_M plus ϵ.\n",
    "        Note that when ϵ=0, the investor has homogeneous holdings\"\"\"\n",
    "    return CPT(μ, ζ, sqrt_S, cgo, θ_M, θ = (θ_M + ϵ))"
   ]
  },
  {
   "cell_type": "markdown",
   "id": "9b01bad0",
   "metadata": {},
   "source": [
    "The partial derivative of the objective function with respect to $\\theta_i$ is \n",
    "$$\n",
    "\\begin{align*}\n",
    "&\\mu_i+\\frac{v\\zeta_i}{v-2}-R_f\\\\\n",
    "& - \\hat{\\gamma}(\\theta_i\\sigma_i^2 + \\beta_i\\sigma_M^2 - \\theta_{M,i}\\sigma_i^2)\\\\\n",
    "& +\\hat{b} (V(G)')\n",
    "\\end{align*}\n",
    "$$"
   ]
  },
  {
   "cell_type": "code",
   "execution_count": 18,
   "id": "93f802fa",
   "metadata": {},
   "outputs": [],
   "source": [
    "def variance_derivative_term(ζ, sqrt_S, β, θ_M):\n",
    "    \"\"\"Derives the second line above...Note that θ is set to equal θ_M in this function.\"\"\"\n",
    "    return θ_M * var(ζ, sqrt_S) + β * (σ_M**2) - θ_M * var(ζ, sqrt_S)"
   ]
  },
  {
   "cell_type": "code",
   "execution_count": 19,
   "id": "abb4ba1e",
   "metadata": {},
   "outputs": [],
   "source": [
    "def objective_derivative(μ, ζ, sqrt_S, cgo, β, θ_M, ϵ = 1/200):\n",
    "    \"\"\"Calculates the above\"\"\"\n",
    "    result = E(μ, ζ) - Rf - γ_hat * variance_derivative_term(ζ, sqrt_S, β, θ_M) \\\n",
    "            + b_hat * (CPT_theta_epsilon(μ, ζ, sqrt_S, cgo, θ_M, ϵ) - CPT_theta_epsilon(μ, ζ, sqrt_S, cgo, θ_M, ϵ = 0)) / ϵ\n",
    "    return result"
   ]
  },
  {
   "cell_type": "markdown",
   "id": "dbfe959c",
   "metadata": {},
   "source": [
    "### mu_homogeneous_guess has problems"
   ]
  },
  {
   "cell_type": "code",
   "execution_count": 20,
   "id": "cba813ac",
   "metadata": {},
   "outputs": [
    {
     "data": {
      "text/plain": [
       "0.29363956821483245"
      ]
     },
     "execution_count": 20,
     "metadata": {},
     "output_type": "execute_result"
    }
   ],
   "source": [
    "objective_derivative(1,0.2,0.2,0.1,0.9,0.1)"
   ]
  },
  {
   "cell_type": "code",
   "execution_count": 21,
   "id": "6dce1e31",
   "metadata": {},
   "outputs": [],
   "source": [
    "def mu_homogeneous_guess(ζ, sqrt_S, cgo, β, θ_M, ϵ = 1/200):\n",
    "    \"\"\"Finds mu that maximises the objective function given homogeneous holdings\"\"\"\n",
    "    μ1 = symbols('μ1')\n",
    "    expr = objective_derivative(μ1, ζ, sqrt_S, cgo, β, θ_M, ϵ = 1/200)\n",
    "    sol = solve(expr)\n",
    "    return sol"
   ]
  },
  {
   "cell_type": "code",
   "execution_count": null,
   "id": "f55b778e",
   "metadata": {},
   "outputs": [],
   "source": [
    "mu_homogeneous_guess(0,0.2,0.1,0.9,0.1)"
   ]
  },
  {
   "cell_type": "markdown",
   "id": "be8e4118",
   "metadata": {},
   "source": [
    "# Check if this mu does indeed achieve a maximum"
   ]
  },
  {
   "cell_type": "markdown",
   "id": "b0acb346",
   "metadata": {},
   "source": [
    "The objective function is \n",
    "$$\n",
    "\\begin{align*}\n",
    "&\\theta_i(\\mu_i+\\frac{v\\zeta_i}{v-2}-R_f) - \\frac{\\hat{\\gamma}}{2}(\\theta_i^2\\sigma_i^2 + 2\\theta_i(\\beta_i\\sigma_M^2-\\theta_{M,i}\\sigma_i^2))\\\\\n",
    "& -\\lambda \\hat{b}\\int\\limits_{-\\infty}^{R_f-\\theta_{i,-1}g_i/\\theta_i} (\\theta_i(R_f-R_i)-\\theta_{i,-1}g_i)^{\\alpha}dw(P(R_i))\\\\\n",
    "& -\\hat{b}\\int\\limits_{R_f-\\theta_{i,-1}g_i/\\theta_i}^{\\infty}(\\theta_i(R_i-R_f)+\\theta_{i,-1}g_i)^{\\alpha}dw(1-P(R_i))\n",
    "\\end{align*}\n",
    "$$"
   ]
  },
  {
   "cell_type": "code",
   "execution_count": null,
   "id": "d82519b8",
   "metadata": {},
   "outputs": [],
   "source": [
    "def variance_term(ζ, sqrt_S, β, θ_M, θ):\n",
    "    \"\"\"Gives the variance term in objective function\"\"\"\n",
    "    return (θ**2 * var(ζ, sqrt_S)) + 2*θ*(β*(σ_M**2) - θ_M*var(ζ, sqrt_S))\n",
    "\n",
    "def objective_function(μ, ζ, sqrt_S, cgo, β, θ_M, θ):\n",
    "    \"\"\"The objective function for asset i\"\"\"\n",
    "    obt_function = θ * (E(μ, ζ) - Rf) - (γ_hat / 2) * variance_term(ζ, sqrt_S, β, θ_M, θ) \\\n",
    "                    + b_hat * CPT(μ, ζ, sqrt_S, cgo, θ_M, θ)\n",
    "    return obt_function"
   ]
  },
  {
   "cell_type": "markdown",
   "id": "793e7f27",
   "metadata": {},
   "source": [
    "### value_vec is too slow"
   ]
  },
  {
   "cell_type": "code",
   "execution_count": null,
   "id": "894060c2",
   "metadata": {},
   "outputs": [],
   "source": [
    "def theta_vec(θ_M, upper_limit = 0.8, n = 10):\n",
    "    \"\"\"Creates vector from θ_M/25 to upper_limit with n numbers in vec\"\"\"\n",
    "    vec = list(np.linspace(θ_M/25, upper_limit, n))\n",
    "    return vec\n",
    "\n",
    "def value_vec_solved_mu(ζ, sqrt_S, cgo, β, θ_M, μ):\n",
    "    \"\"\"Stores values of the objective function when θ goes from θ_M/25 to 0.8\"\"\"\n",
    "    \n",
    "    # mu = mu_homogeneous_guess(ζ, sqrt_S, cgo, β, θ_M, ϵ = 1/200) # Using the solved mu from above\n",
    "    \n",
    "    return [objective_function(ζ, sqrt_S, cgo, β, θ_M, theta, μ) for theta in theta_vec(θ_M)]"
   ]
  },
  {
   "cell_type": "code",
   "execution_count": null,
   "id": "54567f5b",
   "metadata": {},
   "outputs": [],
   "source": [
    "def V_0(cgo, θ_M):\n",
    "    \"\"\"V_0 is the value of the objective function when θ is set to zero\"\"\"\n",
    "    if cgo >= 0:\n",
    "        V0 = b_hat * (cgo * θ_M)**α\n",
    "    else:\n",
    "        V0 = b_hat * (-λ) * (-cgo * θ_M)**α\n",
    "    return V0"
   ]
  },
  {
   "cell_type": "markdown",
   "id": "6abe5c5e",
   "metadata": {},
   "source": [
    "Below will need work"
   ]
  },
  {
   "cell_type": "code",
   "execution_count": null,
   "id": "ee71186c",
   "metadata": {},
   "outputs": [],
   "source": [
    "def homogeneous(μ, ζ, sqrt_S, cgo, β, θ_M, θ):\n",
    "    \n",
    "    mu = [] # mu mu_homogeneous guess if the equilibrium is heterogeneous\n",
    "    hom_holdings = [] # 1 indicates that the equilibrium is of homogeneous holdings\n",
    "    \n",
    "    solved_mu = mu_homogeneous_guess(ζ, sqrt_S, cgo, β, θ_M)\n",
    "    obj_fun = objective_function(ζ, sqrt_S, cgo, β, θ_M, μ = solved_mu, θ = θ_M)\n",
    "    \n",
    "    V0 = V_0(cgo, θ_M)\n",
    "    vec_max = max(value_vec_solved_mu)\n",
    "    max_V = max(V0, vec_max)\n",
    "    \n",
    "    if abs(obj_fun - max_V) >= 1/2000:\n",
    "        mu = solved_mu\n",
    "        hom_holdings = 0\n",
    "        # Heterogeneous holdings\n",
    "    elif V0 > value_vec_solved_mu[0]:\n",
    "        mu = solved_mu\n",
    "        hom_holdings = 0\n",
    "        # Heterogeneous holdings\n",
    "    elif V0 > obj_fun:\n",
    "        mu = solved_mu\n",
    "        hom_holdings = 0\n",
    "        # Heterogeneous holdings\n",
    "    else:\n",
    "        mu = []\n",
    "        hom_holdings = 1\n",
    "        # Homogeneous holdings\n",
    "        \n",
    "    # mu is mu_homogeneous guess if the equilibrium is heterogeneous\n",
    "    # Homogeneous holdings is 1 if the equilibrium is of homogeneous holdings   \n",
    "    \n",
    "    return mu, hom_holdings "
   ]
  },
  {
   "cell_type": "code",
   "execution_count": null,
   "id": "d864cee6",
   "metadata": {},
   "outputs": [],
   "source": []
  },
  {
   "cell_type": "code",
   "execution_count": null,
   "id": "45a2a734",
   "metadata": {},
   "outputs": [],
   "source": [
    "value_vec(1,2,3,0.1,0.9,0.1)"
   ]
  },
  {
   "cell_type": "code",
   "execution_count": null,
   "id": "7d6c24d3",
   "metadata": {},
   "outputs": [],
   "source": []
  },
  {
   "cell_type": "code",
   "execution_count": null,
   "id": "e21a6977",
   "metadata": {},
   "outputs": [],
   "source": [
    "delta_r = 1/400 # Width of increment\n",
    "lower_limit = -100\n",
    "upper_limit = 100\n",
    "\n",
    "num = (upper_limit - lower_limit) / delta_r + 1 # Number of spaces in vector\n",
    "ret_vec = list(np.linspace(lower_limit, upper_limit, int(num))) # Discretised return vector\n",
    "\n",
    "M = len(ret_vec) # Length of vector"
   ]
  },
  {
   "cell_type": "code",
   "execution_count": null,
   "id": "9096dc95",
   "metadata": {},
   "outputs": [],
   "source": [
    "solved_μ = mu_homogeneous_guess(ζ, sqrt_S, cgo, β, θ_M)\n",
    "\n",
    "pdf = pdf_total(μ = solved_μ, ζ, sqrt_S)\n",
    "cdf = cdf_total(μ = solved_μ, ζ, sqrt_S)\n",
    "\n"
   ]
  }
 ],
 "metadata": {
  "kernelspec": {
   "display_name": "Python 3 (ipykernel)",
   "language": "python",
   "name": "python3"
  },
  "language_info": {
   "codemirror_mode": {
    "name": "ipython",
    "version": 3
   },
   "file_extension": ".py",
   "mimetype": "text/x-python",
   "name": "python",
   "nbconvert_exporter": "python",
   "pygments_lexer": "ipython3",
   "version": "3.9.7"
  }
 },
 "nbformat": 4,
 "nbformat_minor": 5
}
