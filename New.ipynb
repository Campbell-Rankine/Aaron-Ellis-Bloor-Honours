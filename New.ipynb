{
 "cells": [
  {
   "cell_type": "markdown",
   "id": "b7fced11",
   "metadata": {},
   "source": [
    "# Importing packages"
   ]
  },
  {
   "cell_type": "code",
   "execution_count": 119,
   "id": "4e1b4a3d",
   "metadata": {},
   "outputs": [],
   "source": [
    "import numpy as np\n",
    "import pandas as pd\n",
    "import scipy\n",
    "from scipy import special\n",
    "from sympy import symbols, Eq, nsolve, sqrt\n",
    "from matplotlib import pyplot as plt"
   ]
  },
  {
   "cell_type": "markdown",
   "id": "e477b2a0",
   "metadata": {},
   "source": [
    "# Model Assumptions"
   ]
  },
  {
   "cell_type": "code",
   "execution_count": 2,
   "id": "6c9530ea",
   "metadata": {},
   "outputs": [],
   "source": [
    "# Distribution parameters\n",
    "v = 7.5 # Degree of freedom scalar\n",
    "\n",
    "# Asset parameters\n",
    "Rf = 1.0 # Gross interest rate\n",
    "γ_hat = 0.6 # Portfolio risk aversion\n",
    "σ_M = 0.25 # Volatility of market returns\n",
    "\n",
    "# Prospect Theory parameters\n",
    "α = 0.7 # Dimishing sensitivity parameter\n",
    "δ = 0.65 # Probability weighting parameter\n",
    "λ = 1.5 # Loss averse parameter\n",
    "b_hat = 0.6 # Prospect theory term"
   ]
  },
  {
   "cell_type": "markdown",
   "id": "05216736",
   "metadata": {},
   "source": [
    "# Data Inputs"
   ]
  },
  {
   "cell_type": "code",
   "execution_count": 3,
   "id": "fb4a15f5",
   "metadata": {},
   "outputs": [
    {
     "data": {
      "text/html": [
       "<div>\n",
       "<style scoped>\n",
       "    .dataframe tbody tr th:only-of-type {\n",
       "        vertical-align: middle;\n",
       "    }\n",
       "\n",
       "    .dataframe tbody tr th {\n",
       "        vertical-align: top;\n",
       "    }\n",
       "\n",
       "    .dataframe thead th {\n",
       "        text-align: right;\n",
       "    }\n",
       "</style>\n",
       "<table border=\"1\" class=\"dataframe\">\n",
       "  <thead>\n",
       "    <tr style=\"text-align: right;\">\n",
       "      <th></th>\n",
       "      <th>Return</th>\n",
       "      <th>StDev</th>\n",
       "      <th>Skew</th>\n",
       "      <th>Overhang</th>\n",
       "      <th>Beta</th>\n",
       "      <th>Capitalisation</th>\n",
       "    </tr>\n",
       "  </thead>\n",
       "  <tbody>\n",
       "    <tr>\n",
       "      <th>0</th>\n",
       "      <td>0.009404</td>\n",
       "      <td>0.368488</td>\n",
       "      <td>2.468040</td>\n",
       "      <td>0.104735</td>\n",
       "      <td>0.842076</td>\n",
       "      <td>0.4</td>\n",
       "    </tr>\n",
       "    <tr>\n",
       "      <th>1</th>\n",
       "      <td>-0.002700</td>\n",
       "      <td>0.943178</td>\n",
       "      <td>3.790273</td>\n",
       "      <td>-0.316220</td>\n",
       "      <td>1.126670</td>\n",
       "      <td>0.6</td>\n",
       "    </tr>\n",
       "  </tbody>\n",
       "</table>\n",
       "</div>"
      ],
      "text/plain": [
       "     Return     StDev      Skew  Overhang      Beta  Capitalisation\n",
       "0  0.009404  0.368488  2.468040  0.104735  0.842076             0.4\n",
       "1 -0.002700  0.943178  3.790273 -0.316220  1.126670             0.6"
      ]
     },
     "execution_count": 3,
     "metadata": {},
     "output_type": "execute_result"
    }
   ],
   "source": [
    "df = pd.read_excel(\"empirical_input.xls\")\n",
    "inputs = df.iloc[[0, -1]].reset_index(drop = True)\n",
    "inputs[\"Capitalisation\"] = [0.4, 0.6]\n",
    "\n",
    "inputs"
   ]
  },
  {
   "cell_type": "markdown",
   "id": "2582e590",
   "metadata": {},
   "source": [
    "# Moments of distribution\n",
    "The mean, variance and skewness of the distribution are \n",
    "$$\\begin{align}\n",
    "E(\\tilde{R_i})=\\bar{R_i}&= \\mu_i + \\frac{v}{v-2}\\zeta_i\\\\\n",
    "Var(\\tilde{R_i}) &= \\frac{v}{v-2} S_i + \\frac{2v^2}{(v-2)^2(v-4)}\\zeta_i^2\\\\\n",
    "Skew(\\tilde{R_i}) &= \\frac{2\\zeta_i\\sqrt{v(v-4)}}{\\sqrt{S_i}(2v\\zeta_i^2/S_i+(v-2)(v-4))^{\\frac{3}{2}}}\\bigg(3(v-2)+\\frac{8v\\zeta_i^2}{S_i(v-6)}\\bigg)\n",
    "\\end{align}$$"
   ]
  },
  {
   "cell_type": "code",
   "execution_count": 4,
   "id": "c9392bae",
   "metadata": {},
   "outputs": [],
   "source": [
    "def E(μ, ζ):\n",
    "    \"\"\"Mean of distribution\"\"\"\n",
    "    return μ + (v/(v-2))*ζ\n",
    "\n",
    "def var(ζ, sqrt_S):\n",
    "    \"\"\"Variance of distribution\"\"\"\n",
    "    return (v/(v-2))*(sqrt_S**2) + (2 * (ζ**2) * (v**2)) / (v-4) / ((v-2)**2)\n",
    "\n",
    "def skew(ζ, sqrt_S):\n",
    "    \"\"\"Skewness of distribution\"\"\"\n",
    "    return (3*(v-2)+((8*v*(ζ**2))/(v-6)/((sqrt_S)**2))) * (2*ζ*math.sqrt(v*(v-4))) / (sqrt_S) / ((2*v*(ζ**2)/(sqrt_S**2)) + (v-2)*(v-4))**(1.5)"
   ]
  },
  {
   "cell_type": "markdown",
   "id": "a2ee9df5",
   "metadata": {},
   "source": [
    "# Parameter solving"
   ]
  },
  {
   "cell_type": "code",
   "execution_count": 5,
   "id": "b315a85e",
   "metadata": {},
   "outputs": [],
   "source": [
    "def parameter_solver(StDev, Skew):\n",
    "    \"\"\"Finds ζ and sqrt_S so that variance and skewness match\"\"\"\n",
    "    ζ1, sqrt_S1 = symbols('ζ1, sqrt_S1') # The variables\n",
    "    eq1 = Eq(var(ζ1, sqrt_S1), StDev**2) \n",
    "    eq2 = Eq(skew(ζ1, sqrt_S1), Skew) \n",
    "    result = nsolve([eq1, eq2], [ζ1, sqrt_S1], [1, 1]) # Solve simultaneous equation\n",
    "    return result"
   ]
  },
  {
   "cell_type": "markdown",
   "id": "d000d66c",
   "metadata": {},
   "source": [
    "# Running parameter solver for input table"
   ]
  },
  {
   "cell_type": "code",
   "execution_count": 6,
   "id": "be994dec",
   "metadata": {},
   "outputs": [
    {
     "data": {
      "text/html": [
       "<div>\n",
       "<style scoped>\n",
       "    .dataframe tbody tr th:only-of-type {\n",
       "        vertical-align: middle;\n",
       "    }\n",
       "\n",
       "    .dataframe tbody tr th {\n",
       "        vertical-align: top;\n",
       "    }\n",
       "\n",
       "    .dataframe thead th {\n",
       "        text-align: right;\n",
       "    }\n",
       "</style>\n",
       "<table border=\"1\" class=\"dataframe\">\n",
       "  <thead>\n",
       "    <tr style=\"text-align: right;\">\n",
       "      <th></th>\n",
       "      <th>ζ</th>\n",
       "      <th>sqrt_S</th>\n",
       "    </tr>\n",
       "  </thead>\n",
       "  <tbody>\n",
       "    <tr>\n",
       "      <th>0</th>\n",
       "      <td>0.217965</td>\n",
       "      <td>0.250109</td>\n",
       "    </tr>\n",
       "    <tr>\n",
       "      <th>1</th>\n",
       "      <td>0.692359</td>\n",
       "      <td>0.528048</td>\n",
       "    </tr>\n",
       "  </tbody>\n",
       "</table>\n",
       "</div>"
      ],
      "text/plain": [
       "          ζ    sqrt_S\n",
       "0  0.217965  0.250109\n",
       "1  0.692359  0.528048"
      ]
     },
     "execution_count": 6,
     "metadata": {},
     "output_type": "execute_result"
    }
   ],
   "source": [
    "# Create empty arrays\n",
    "result = np.empty([len(inputs),2])\n",
    "\n",
    "# Populate arrays with results of parameter_solver\n",
    "for i in range(len(inputs)):\n",
    "    result[i:,] = list(parameter_solver(inputs[\"StDev\"][i], inputs[\"Skew\"][i]))\n",
    "\n",
    "# Create dataframe\n",
    "column_values = ['ζ', 'sqrt_S']\n",
    "parameters = pd.DataFrame(data = result, columns = column_values)\n",
    "\n",
    "parameters"
   ]
  },
  {
   "cell_type": "markdown",
   "id": "e373eea2",
   "metadata": {},
   "source": [
    "# Probability and Cumulative Distribution Functions"
   ]
  },
  {
   "cell_type": "markdown",
   "id": "1a555771",
   "metadata": {},
   "source": [
    "### Probability Density Function\n",
    "\n",
    "Each distribution has a one-dimensional generalised hyperbolic skewed t distribution, with density function\n",
    "\n",
    "$$\n",
    "p(R_i) = \\frac{2^{1-\\frac{v+1}{2}}}{\\Gamma(\\frac{v}{2})(\\pi v S_i)^{\\frac{1}{2}}}\n",
    "\\cdot \\frac{K_{\\frac{v+1}{2}}\\bigg(\\sqrt{(v+(R_i-\\mu_i)^2/S_i)\\zeta_i^2/S_i)}\\bigg)\\text{exp}((R_i-\\mu_i)\\zeta_i/S_i)}{\\bigg(\\sqrt{(v+(R_i-\\mu_i)^2/S_i)\\zeta_i^2/S_i)}\\bigg)^{-\\frac{v+1}{2}}(1+(R_i-\\mu_i)^2v^{-1}/S_i)^{\\frac{v+1}{2}}}\n",
    "$$\n",
    "for $\\zeta\\neq 0$, and \n",
    "$$\n",
    "p(R_i) = \\frac{\\Gamma(\\frac{v+1}{2})}{\\Gamma(\\frac{v}{2})(\\pi vS_i)^{\\frac{1}{2}}}\\cdot\n",
    "(1+(R_i-\\mu_i)^2v^{-1}/S_i)^{\\frac{v+1}{2}}\n",
    "$$\n",
    "for $\\zeta_i=0$."
   ]
  },
  {
   "cell_type": "markdown",
   "id": "686f2ef5",
   "metadata": {},
   "source": [
    "### Defining functions to simplify pdf"
   ]
  },
  {
   "cell_type": "code",
   "execution_count": 107,
   "id": "b5c6a988",
   "metadata": {},
   "outputs": [],
   "source": [
    "def sqrt_function(R, μ, ζ, sqrt_S):\n",
    "    \"\"\"Creating the sqrt part above\"\"\"\n",
    "    result = np.float32((v + (R - μ)**2 / (sqrt_S**2)) * (ζ**2) / (sqrt_S**2))\n",
    "    return np.sqrt(result)\n",
    "\n",
    "def vplus1_function(R, μ, ζ, sqrt_S):\n",
    "    \"\"\"Creating the (v+1)/2 function\"\"\"\n",
    "    result = 1 + (((R - μ)**2) / (sqrt_S**2) / v)\n",
    "    return float(result**((v+1)/2))\n",
    "\n",
    "def gamma_function(sqrt_S):\n",
    "    \"\"\"Creating denominator\"\"\"\n",
    "    result = np.pi * v * (sqrt_S**2)\n",
    "    return float(scipy.special.gamma(v/2) * result**0.5)\n",
    "\n",
    "def exp_function(R, μ, ζ, sqrt_S):\n",
    "    \"\"\"Creating exp part\"\"\"\n",
    "    result = (R - μ) * ζ / (sqrt_S**2)\n",
    "    return float(np.exp(result))\n",
    "\n",
    "def bessel_function(R, μ, ζ, sqrt_S):\n",
    "    '''Creating bessel function'''\n",
    "    result = scipy.special.kv((v+1)/2, sqrt_function(R, μ, ζ, sqrt_S))\n",
    "    return float(result)"
   ]
  },
  {
   "cell_type": "markdown",
   "id": "5b643c3b",
   "metadata": {},
   "source": [
    "### PDF at each point R"
   ]
  },
  {
   "cell_type": "code",
   "execution_count": 8,
   "id": "0dda88d2",
   "metadata": {},
   "outputs": [],
   "source": [
    "def pdf(R, μ, ζ, sqrt_S):\n",
    "    \"\"\"Point by point pdf. This creates the above function taking in a specific R as an argument\"\"\"\n",
    "    if ζ == 0:\n",
    "        density = scipy.special.gamma((v+1)/2) * vplus1_function(R, μ, ζ, sqrt_S) / gamma_function(sqrt_S)\n",
    "    else: \n",
    "        density = (2**(1-((v+1)/2))) * bessel_function(R, μ, ζ, sqrt_S) * exp_function(R, μ, ζ, sqrt_S) / gamma_function(sqrt_S) / (sqrt_function(R, μ, sqrt_S, ζ)**(-(v+1)/2)) / vplus1_function(R, μ, ζ, sqrt_S)\n",
    "    return density"
   ]
  },
  {
   "cell_type": "markdown",
   "id": "7d2fc910",
   "metadata": {},
   "source": [
    "### Range of returns considered"
   ]
  },
  {
   "cell_type": "code",
   "execution_count": 9,
   "id": "5eab24a1",
   "metadata": {},
   "outputs": [],
   "source": [
    "delta_r = 1/300 # Width of increment between R's\n",
    "lower_limit = -50 # Lower limit of R\n",
    "upper_limit = 50 # Upper limit of R\n",
    "\n",
    "num = (upper_limit - lower_limit) / delta_r + 1 # Number of spaces in vector\n",
    "ret_vec = np.linspace(lower_limit, upper_limit, int(num)) # Discretised return vector\n",
    "\n",
    "M = len(ret_vec) # Length of vector"
   ]
  },
  {
   "cell_type": "markdown",
   "id": "df32aa29",
   "metadata": {},
   "source": [
    "### Building PDF and CDF"
   ]
  },
  {
   "cell_type": "code",
   "execution_count": 10,
   "id": "ad927856",
   "metadata": {},
   "outputs": [],
   "source": [
    "def pdf_total(μ, ζ, sqrt_S):\n",
    "    \"\"\"Creating the distribution for an asset with parameters μ, ζ, sqrt_S\"\"\"\n",
    "    outputs = [pdf(R, μ, ζ, sqrt_S) for R in ret_vec]\n",
    "    return outputs\n",
    "\n",
    "def cdf_total(μ, ζ, sqrt_S):\n",
    "    \"\"\"Creates the CDF for an asset with parameters μ, ζ, sqrt_S\"\"\"\n",
    "    outputs = np.cumsum(pdf_total(μ, ζ, sqrt_S)) * delta_r\n",
    "    return outputs.tolist()"
   ]
  },
  {
   "cell_type": "markdown",
   "id": "45a8e0b0",
   "metadata": {},
   "source": [
    "### Example of PDF and CDF\n",
    "\n",
    "Here we set $\\mu=0$, sqrt_S$=0.2$ and $\\zeta=0.2$"
   ]
  },
  {
   "cell_type": "code",
   "execution_count": 11,
   "id": "cff178fb",
   "metadata": {},
   "outputs": [
    {
     "data": {
      "image/png": "[encoded data removed]",
      "text/plain": [
       "<Figure size 1440x360 with 2 Axes>"
      ]
     },
     "metadata": {
      "needs_background": "light"
     },
     "output_type": "display_data"
    }
   ],
   "source": [
    "# Index in ret_vec when the value is -5.\n",
    "a = int(min(i for i in list(range(M)) if i > (upper_limit - 5) / delta_r)) \n",
    "\n",
    "plt.subplots(2, 2, figsize=(20,5))\n",
    "\n",
    "plt.subplot(1, 2, 1) # row 1, col 2 index 1\n",
    "plt.plot(ret_vec[a:(M-a)], pdf_total(0, 0.2, 0.2)[a:(M-a)]) # Only graph between (-5,5)\n",
    "plt.xlabel('R')\n",
    "plt.ylabel('pdf')\n",
    "plt.title('Probability Density Function for μ=0, sqrt_S=0.2, ζ=0.2')\n",
    "\n",
    "plt.subplot(1, 2, 2) # row 1, col 2 index 2\n",
    "plt.plot(ret_vec[a:(M-a)], cdf_total(0, 0.2, 0.2)[a:(M-a)]) # Only graph between (-5,5)\n",
    "plt.xlabel('R')\n",
    "plt.ylabel('cdf')\n",
    "plt.title('Cumulative Density Function for μ=0, sqrt_S=0.2, ζ=0.2')\n",
    "\n",
    "plt.show()"
   ]
  },
  {
   "cell_type": "markdown",
   "id": "ef0133f7",
   "metadata": {},
   "source": [
    "# Prospect Theory"
   ]
  },
  {
   "cell_type": "markdown",
   "id": "8d33cb49",
   "metadata": {},
   "source": [
    "The value function is $$v(x)=\\begin{cases}x^{\\alpha}, & x\\geq 0\\\\-\\lambda(-x)^{\\alpha},&x<0\\end{cases}$$\n",
    "\n",
    "The probability weighting function is \n",
    "$$\n",
    "w(P)=\\frac{P^{\\delta}}{(P^{\\delta}+(1-P)^{\\delta})^{1/\\delta}}\n",
    "$$"
   ]
  },
  {
   "cell_type": "markdown",
   "id": "c0eec63b",
   "metadata": {},
   "source": [
    "The quantity $V(\\tilde{G_i})$ is the cumulative prospect theory value of the gain or loss $\\tilde{G_i}$. For $\\Theta_i>0$, we have \n",
    "\\begin{align*}\n",
    "V(\\tilde{G_i})&=-\\lambda \\int\\limits_{-\\infty}^{R_f-\\theta_{i,-1}g_i/\\theta_i} (\\theta_i(R_f-R_i)-\\theta_{i,-1}g_i)^{\\alpha} dw(P(R_i))\\\\&-\\int\\limits_{R_f-\\theta_{i,-1}g_i/\\theta_i}^{\\infty} (\\theta_i(R_i-R_f)+\\theta_{i,-1}g_i)^{\\alpha} dw(1-P(R_i))\n",
    "\\end{align*}\n",
    "______________"
   ]
  },
  {
   "cell_type": "markdown",
   "id": "e1219ecd",
   "metadata": {},
   "source": [
    "#### Gain/Loss Term:\n",
    "The integrated gain/loss for asset $i$ for the cumulative prospect theory term in scaled down objective function\n",
    "$$\n",
    "\\theta_i(\\tilde{R_i}-R_f)+\\theta_{i,-1}g_i.\n",
    "$$"
   ]
  },
  {
   "cell_type": "markdown",
   "id": "03072d1e",
   "metadata": {},
   "source": [
    "#### Loss Derivative: \n",
    "We have $$dw(P(R_i))=\\frac{dw(P(R_i))}{dP(R_i)}\\frac{dP(R_i)}{dR_i}dR_i$$\n",
    "with \n",
    "$$\n",
    "\\frac{dw(P(R_i))}{dP(R_i)}=\\frac{\\delta P^{\\delta -1}(P^{\\delta}+(1-P)^{\\delta})-P^{\\delta}(P^{\\delta-1}-(1-P)^{\\delta-1})}{(P^{\\delta}+(1-P)^{\\delta})^{1+\\frac{1}{\\delta}}}\n",
    "$$\n",
    "using $P$ as short-hand for $P(R_i)$\n",
    "___________"
   ]
  },
  {
   "cell_type": "markdown",
   "id": "a2730344",
   "metadata": {},
   "source": [
    "#### Gain Derivative:\n",
    "We have $$dw(1-P(R_i))=\\frac{dw(1-P(R_i))}{dP(R_i)}\\frac{dP(R_i)}{dR_i}dR_i$$\n",
    "with \n",
    "$$\n",
    "\\frac{dw(1-P(R_i))}{dP(R_i)}=\\frac{\\delta (1-P)^{\\delta -1}(P^{\\delta}+(1-P)^{\\delta})-(1-P)^{\\delta}((1-P)^{\\delta-1}-P^{\\delta-1})}{(P^{\\delta}+(1-P)^{\\delta})^{1+\\frac{1}{\\delta}}}\n",
    "$$\n",
    "using $P$ as short-hand for $P(R_i)$\n",
    "___________"
   ]
  },
  {
   "cell_type": "markdown",
   "id": "6c41d712",
   "metadata": {},
   "source": [
    "### Define these functions"
   ]
  },
  {
   "cell_type": "code",
   "execution_count": 12,
   "id": "308f28fd",
   "metadata": {},
   "outputs": [],
   "source": [
    "def gain(R, cgo, θ_M, θ):\n",
    "    \"\"\"Gain/loss of asset i given outcome of random variable Ri and chosen optimal θ\"\"\"\n",
    "    return float(θ * (R - Rf) + θ_M * cgo)\n",
    "\n",
    "def derivative_loss(P):\n",
    "    \"\"\"dw(P(R))/d(P(R))\"\"\"\n",
    "    numerator = (δ * P**(δ-1)) * (P**δ + (1-P)**δ) - P**δ * (P**(δ-1) - (1-P)**(δ-1))\n",
    "    denominator = (P**δ + (1-P)**δ) ** (1+1/δ)\n",
    "    derivative = numerator / denominator\n",
    "    return float(derivative)\n",
    "\n",
    "def derivative_gain(P):\n",
    "    \"\"\"dw(1-P(R))/d(P(R))\"\"\"\n",
    "    numerator = (δ * (1-P)**(δ-1)) * (P**δ + (1-P)**δ) - (1-P)**δ * ((1-P)**(δ-1) - P**(δ-1))\n",
    "    denominator = (P**δ + (1-P)**δ) ** (1 + 1/δ)\n",
    "    derivative = numerator / denominator\n",
    "    return float(derivative)"
   ]
  },
  {
   "cell_type": "markdown",
   "id": "3a84e48d",
   "metadata": {},
   "source": [
    "###  Cumulative Prospect Theory term"
   ]
  },
  {
   "cell_type": "code",
   "execution_count": 101,
   "id": "2717d6c7",
   "metadata": {},
   "outputs": [],
   "source": [
    "μ = 0.5\n",
    "ζ = 0.6\n",
    "sqrt_S = 0.5\n",
    "cgo = 0.1\n",
    "θ_M = 0.26\n",
    "θ = 0.26\n",
    "β = 0.9\n",
    "σ_M = 0.25"
   ]
  },
  {
   "cell_type": "code",
   "execution_count": 52,
   "id": "8d8641a1",
   "metadata": {},
   "outputs": [],
   "source": [
    "def CPT(μ, ζ, sqrt_S, cgo, θ_M, θ):\n",
    "    \"\"\"Calculates CPT term\"\"\"\n",
    "    \n",
    "    # Finds index in ret_vec that corresponds to the R which gives a gain/loss of zero\n",
    "    cutoff = Rf - cgo * θ_M / θ\n",
    "    m = min(R for R in ret_vec if R >= cutoff) # minimum value in ret_vec >= cutoff\n",
    "    idx = list(ret_vec).index(m) # Index of m used to find \n",
    "    \n",
    "    # Creates the vector of this assets pdf and cdf. It will be same size as ret_vec\n",
    "    pdf = pdf_total(μ, ζ, sqrt_S)\n",
    "    cdf = cdf_total(μ, ζ, sqrt_S)\n",
    "   \n",
    "\n",
    "    # This section calculates the gain portion of CPT term V(G)\n",
    "\n",
    "    gains_skew_dist_pdf = pdf[idx:] # Portion of pdf vector which corresponds to gains\n",
    "    gains_skew_dist_cdf = cdf[idx:] # Portion of cdf vector which corresponds to gains\n",
    "    gains_ret_vec_sub = ret_vec[idx:] # Portion of returns vector which corresponds to gains\n",
    "    \n",
    "    gains_vector = [((abs(gain(R, θ, θ_M, cgo))**α * p * derivative_gain(P))) \n",
    "                    for R, p, P in zip(gains_ret_vec_sub, gains_skew_dist_pdf, gains_skew_dist_cdf)]\n",
    "    gains = sum(gains_vector) * delta_r\n",
    "    \n",
    "    \n",
    "    # This section calculates the loss portion of CPT term V(G)\n",
    "    \n",
    "    losses_skew_dist_pdf = pdf[:idx-1]\n",
    "    losses_skew_dist_cdf = cdf[:idx-1]\n",
    "    losses_ret_vec_sub = ret_vec[:idx-1]\n",
    "    \n",
    "    losses_vector = [((-λ*(abs(gain(R, θ, θ_M, cgo)))**α) * p * derivative_loss(P)) \n",
    "                     for R, p, P in zip(losses_ret_vec_sub, losses_skew_dist_pdf, losses_skew_dist_cdf)]\n",
    "    losses = sum(losses_vector) * delta_r\n",
    "\n",
    "    # Return the gains and losses part summed\n",
    "    \n",
    "    return gains + losses"
   ]
  },
  {
   "cell_type": "code",
   "execution_count": 53,
   "id": "331f4fd8",
   "metadata": {},
   "outputs": [],
   "source": [
    "theta_space = np.linspace(0.01, 0.99, 100)\n",
    "\n",
    "y = [CPT(μ, ζ, sqrt_S, cgo, θ_M, i) for i in theta_space]"
   ]
  },
  {
   "cell_type": "code",
   "execution_count": 54,
   "id": "fa9fdf88",
   "metadata": {},
   "outputs": [
    {
     "data": {
      "text/plain": [
       "<matplotlib.lines.Line2D at 0x7f88ba58a550>"
      ]
     },
     "execution_count": 54,
     "metadata": {},
     "output_type": "execute_result"
    },
    {
     "data": {
      "image/png": "[encoded data removed]",
      "text/plain": [
       "<Figure size 432x288 with 1 Axes>"
      ]
     },
     "metadata": {
      "needs_background": "light"
     },
     "output_type": "display_data"
    }
   ],
   "source": [
    "plt.plot(theta_space,y)\n",
    "plt.axvline(x=θ_M)"
   ]
  },
  {
   "cell_type": "markdown",
   "id": "21021b13",
   "metadata": {},
   "source": [
    "# Initial guess of mu assuming homogeneity"
   ]
  },
  {
   "cell_type": "code",
   "execution_count": 55,
   "id": "fbe85f03",
   "metadata": {},
   "outputs": [],
   "source": [
    "def CPT_theta_epsilon(μ, ζ, sqrt_S, cgo, θ_M, ϵ = 0):\n",
    "    \"\"\"Returns the CPT term when an investor chooses θ to be equal to θ_M plus ϵ.\n",
    "    ....Note that when ϵ=0, the investor has homogeneous holdings.\n",
    "    ....This function will be used to calculate partial derivative of objective function\n",
    "    with respect to θ\"\"\"\n",
    "    \n",
    "    return CPT(μ, ζ, sqrt_S, cgo, θ_M, θ = (θ_M + ϵ))"
   ]
  },
  {
   "cell_type": "markdown",
   "id": "9b01bad0",
   "metadata": {},
   "source": [
    "The partial derivative of the objective function with respect to $\\theta_i$ is \n",
    "$$\n",
    "\\begin{align*}\n",
    "&\\mu_i+\\frac{v\\zeta_i}{v-2}-R_f\\\\\n",
    "& - \\hat{\\gamma}(\\theta_i\\sigma_i^2 + \\beta_i\\sigma_M^2 - \\theta_{M,i}\\sigma_i^2)\\\\\n",
    "& +\\hat{b} (V(G)')\n",
    "\\end{align*}\n",
    "$$"
   ]
  },
  {
   "cell_type": "code",
   "execution_count": 110,
   "id": "7ed99bd4",
   "metadata": {},
   "outputs": [],
   "source": [
    "def objective_derivative(μ, ζ, sqrt_S, cgo, β, θ_M, ϵ = 1/200):\n",
    "    \"\"\"Calculates the above\"\"\"\n",
    "    \n",
    "    # Calculate the variance term in derivative (second line without γ_hat). Note that θ = θ_M\n",
    "    variance_derivative_term = lambda ζ, sqrt_S, β, θ_M : θ_M * var(ζ, sqrt_S) + β * (σ_M**2) - θ_M * var(ζ, sqrt_S)\n",
    "    \n",
    "    # Now calculate result\n",
    "    result = E(μ, ζ) - Rf - γ_hat * variance_derivative_term(ζ, sqrt_S, β, θ_M) \\\n",
    "            + b_hat * (CPT_theta_epsilon(μ, ζ, sqrt_S, cgo, θ_M, ϵ) - CPT_theta_epsilon(μ, ζ, sqrt_S, cgo, θ_M, ϵ = 0)) / ϵ\n",
    "    \n",
    "    return float(result)"
   ]
  },
  {
   "cell_type": "code",
   "execution_count": 111,
   "id": "97685bf7",
   "metadata": {},
   "outputs": [
    {
     "data": {
      "text/plain": [
       "0.2844318181818181"
      ]
     },
     "execution_count": 111,
     "metadata": {},
     "output_type": "execute_result"
    }
   ],
   "source": [
    "# An example for the parameters above\n",
    "\n",
    "objective_derivative(μ, ζ, sqrt_S, cgo, β, θ_M, ϵ = 1/200)"
   ]
  },
  {
   "cell_type": "markdown",
   "id": "0780f1dc",
   "metadata": {},
   "source": [
    "   Set partial derivative of the objective function with respect to $\\theta_i$ to zero and solve for $\\mu$"
   ]
  },
  {
   "cell_type": "code",
   "execution_count": 112,
   "id": "5b658736",
   "metadata": {},
   "outputs": [],
   "source": [
    "def initial_guess(ζ, sqrt_S, cgo, β, θ_M):\n",
    "    '''Makes an initial guess for mu'''\n",
    "    guess = Rf + γ_hat * (θ_M * var(ζ, sqrt_S) + β * σ_M**2) - v * ζ / (v-2)\n",
    "    return guess"
   ]
  },
  {
   "cell_type": "code",
   "execution_count": 113,
   "id": "2339d049",
   "metadata": {},
   "outputs": [],
   "source": [
    "def mu_homogeneous_guess(ζ, sqrt_S, cgo, β, θ_M, ϵ = 1/200):\n",
    "    \"\"\"Finds mu that maximises the objective function given homogeneous holdings\"\"\"\n",
    "    μ1, y = symbols('μ1, y')\n",
    "    y = objective_derivative(μ1, ζ = 0.2, sqrt_S = 0.2, cgo = 0, β = 1, θ_M = 0.1, ϵ = 1/200)\n",
    "    sol = solve(y)\n",
    "    return sol"
   ]
  },
  {
   "cell_type": "code",
   "execution_count": 114,
   "id": "4bd88c35",
   "metadata": {},
   "outputs": [],
   "source": [
    "def mu_homogeneous_guess1(ζ, sqrt_S, cgo, β, θ_M, ϵ = 1/200):\n",
    "    \"\"\"Finds ζ and sqrt_S so that variance and skewness match\"\"\"\n",
    "    \n",
    "    #Makes an initial guess for mu\n",
    "    guess = Rf + γ_hat * (θ_M * var(ζ, sqrt_S) + β * σ_M**2) - v * ζ / (v-2)\n",
    "    \n",
    "    μ1 = symbols('μ1') # The variable\n",
    "    eq = Eq(objective_derivative(μ1, ζ = 0.2, sqrt_S = 0.2, cgo = 0, β = 1, θ_M = 0.1, ϵ = 1/200), 0) \n",
    "    result = nsolve([eq], guess) # Solve equation\n",
    "    return result"
   ]
  },
  {
   "cell_type": "code",
   "execution_count": 120,
   "id": "b7b1e7f8",
   "metadata": {},
   "outputs": [
    {
     "ename": "TypeError",
     "evalue": "can't convert expression to float",
     "output_type": "error",
     "traceback": [
      "\u001b[0;31m---------------------------------------------------------------------------\u001b[0m",
      "\u001b[0;31mTypeError\u001b[0m                                 Traceback (most recent call last)",
      "\u001b[0;32m/var/folders/jj/c3rnssjx7dnb2tt1t9xy4vk80000gn/T/ipykernel_9982/2873600511.py\u001b[0m in \u001b[0;36m<module>\u001b[0;34m\u001b[0m\n\u001b[0;32m----> 1\u001b[0;31m \u001b[0mmu_homogeneous_guess1\u001b[0m\u001b[0;34m(\u001b[0m\u001b[0mζ\u001b[0m\u001b[0;34m,\u001b[0m \u001b[0msqrt_S\u001b[0m\u001b[0;34m,\u001b[0m \u001b[0mcgo\u001b[0m\u001b[0;34m,\u001b[0m \u001b[0mβ\u001b[0m\u001b[0;34m,\u001b[0m \u001b[0mθ_M\u001b[0m\u001b[0;34m,\u001b[0m \u001b[0mϵ\u001b[0m \u001b[0;34m=\u001b[0m \u001b[0;36m1\u001b[0m\u001b[0;34m/\u001b[0m\u001b[0;36m200\u001b[0m\u001b[0;34m)\u001b[0m\u001b[0;34m\u001b[0m\u001b[0;34m\u001b[0m\u001b[0m\n\u001b[0m",
      "\u001b[0;32m/var/folders/jj/c3rnssjx7dnb2tt1t9xy4vk80000gn/T/ipykernel_9982/2184630.py\u001b[0m in \u001b[0;36mmu_homogeneous_guess1\u001b[0;34m(ζ, sqrt_S, cgo, β, θ_M, ε)\u001b[0m\n\u001b[1;32m      6\u001b[0m \u001b[0;34m\u001b[0m\u001b[0m\n\u001b[1;32m      7\u001b[0m     \u001b[0mμ1\u001b[0m \u001b[0;34m=\u001b[0m \u001b[0msymbols\u001b[0m\u001b[0;34m(\u001b[0m\u001b[0;34m'μ1'\u001b[0m\u001b[0;34m)\u001b[0m \u001b[0;31m# The variable\u001b[0m\u001b[0;34m\u001b[0m\u001b[0;34m\u001b[0m\u001b[0m\n\u001b[0;32m----> 8\u001b[0;31m     \u001b[0meq\u001b[0m \u001b[0;34m=\u001b[0m \u001b[0mEq\u001b[0m\u001b[0;34m(\u001b[0m\u001b[0mobjective_derivative\u001b[0m\u001b[0;34m(\u001b[0m\u001b[0mμ1\u001b[0m\u001b[0;34m,\u001b[0m \u001b[0mζ\u001b[0m \u001b[0;34m=\u001b[0m \u001b[0;36m0.2\u001b[0m\u001b[0;34m,\u001b[0m \u001b[0msqrt_S\u001b[0m \u001b[0;34m=\u001b[0m \u001b[0;36m0.2\u001b[0m\u001b[0;34m,\u001b[0m \u001b[0mcgo\u001b[0m \u001b[0;34m=\u001b[0m \u001b[0;36m0\u001b[0m\u001b[0;34m,\u001b[0m \u001b[0mβ\u001b[0m \u001b[0;34m=\u001b[0m \u001b[0;36m1\u001b[0m\u001b[0;34m,\u001b[0m \u001b[0mθ_M\u001b[0m \u001b[0;34m=\u001b[0m \u001b[0;36m0.1\u001b[0m\u001b[0;34m,\u001b[0m \u001b[0mϵ\u001b[0m \u001b[0;34m=\u001b[0m \u001b[0;36m1\u001b[0m\u001b[0;34m/\u001b[0m\u001b[0;36m200\u001b[0m\u001b[0;34m)\u001b[0m\u001b[0;34m,\u001b[0m \u001b[0;36m0\u001b[0m\u001b[0;34m)\u001b[0m\u001b[0;34m\u001b[0m\u001b[0;34m\u001b[0m\u001b[0m\n\u001b[0m\u001b[1;32m      9\u001b[0m     \u001b[0mresult\u001b[0m \u001b[0;34m=\u001b[0m \u001b[0mnsolve\u001b[0m\u001b[0;34m(\u001b[0m\u001b[0;34m[\u001b[0m\u001b[0meq\u001b[0m\u001b[0;34m]\u001b[0m\u001b[0;34m,\u001b[0m \u001b[0mguess\u001b[0m\u001b[0;34m)\u001b[0m \u001b[0;31m# Solve equation\u001b[0m\u001b[0;34m\u001b[0m\u001b[0;34m\u001b[0m\u001b[0m\n\u001b[1;32m     10\u001b[0m     \u001b[0;32mreturn\u001b[0m \u001b[0mresult\u001b[0m\u001b[0;34m\u001b[0m\u001b[0;34m\u001b[0m\u001b[0m\n",
      "\u001b[0;32m/var/folders/jj/c3rnssjx7dnb2tt1t9xy4vk80000gn/T/ipykernel_9982/2527719580.py\u001b[0m in \u001b[0;36mobjective_derivative\u001b[0;34m(μ, ζ, sqrt_S, cgo, β, θ_M, ε)\u001b[0m\n\u001b[1;32m      7\u001b[0m     \u001b[0;31m# Now calculate result\u001b[0m\u001b[0;34m\u001b[0m\u001b[0;34m\u001b[0m\u001b[0m\n\u001b[1;32m      8\u001b[0m     \u001b[0mresult\u001b[0m \u001b[0;34m=\u001b[0m \u001b[0mE\u001b[0m\u001b[0;34m(\u001b[0m\u001b[0mμ\u001b[0m\u001b[0;34m,\u001b[0m \u001b[0mζ\u001b[0m\u001b[0;34m)\u001b[0m \u001b[0;34m-\u001b[0m \u001b[0mRf\u001b[0m \u001b[0;34m-\u001b[0m \u001b[0mγ_hat\u001b[0m \u001b[0;34m*\u001b[0m \u001b[0mvariance_derivative_term\u001b[0m\u001b[0;34m(\u001b[0m\u001b[0mζ\u001b[0m\u001b[0;34m,\u001b[0m \u001b[0msqrt_S\u001b[0m\u001b[0;34m,\u001b[0m \u001b[0mβ\u001b[0m\u001b[0;34m,\u001b[0m \u001b[0mθ_M\u001b[0m\u001b[0;34m)\u001b[0m\u001b[0;34m\u001b[0m\u001b[0;34m\u001b[0m\u001b[0m\n\u001b[0;32m----> 9\u001b[0;31m     \u001b[0;32mreturn\u001b[0m \u001b[0mfloat\u001b[0m\u001b[0;34m(\u001b[0m\u001b[0mresult\u001b[0m\u001b[0;34m)\u001b[0m\u001b[0;34m\u001b[0m\u001b[0;34m\u001b[0m\u001b[0m\n\u001b[0m",
      "\u001b[0;32m~/opt/anaconda3/lib/python3.9/site-packages/sympy/core/expr.py\u001b[0m in \u001b[0;36m__float__\u001b[0;34m(self)\u001b[0m\n\u001b[1;32m    357\u001b[0m         \u001b[0;32mif\u001b[0m \u001b[0mresult\u001b[0m\u001b[0;34m.\u001b[0m\u001b[0mis_number\u001b[0m \u001b[0;32mand\u001b[0m \u001b[0mresult\u001b[0m\u001b[0;34m.\u001b[0m\u001b[0mas_real_imag\u001b[0m\u001b[0;34m(\u001b[0m\u001b[0;34m)\u001b[0m\u001b[0;34m[\u001b[0m\u001b[0;36m1\u001b[0m\u001b[0;34m]\u001b[0m\u001b[0;34m:\u001b[0m\u001b[0;34m\u001b[0m\u001b[0;34m\u001b[0m\u001b[0m\n\u001b[1;32m    358\u001b[0m             \u001b[0;32mraise\u001b[0m \u001b[0mTypeError\u001b[0m\u001b[0;34m(\u001b[0m\u001b[0;34m\"can't convert complex to float\"\u001b[0m\u001b[0;34m)\u001b[0m\u001b[0;34m\u001b[0m\u001b[0;34m\u001b[0m\u001b[0m\n\u001b[0;32m--> 359\u001b[0;31m         \u001b[0;32mraise\u001b[0m \u001b[0mTypeError\u001b[0m\u001b[0;34m(\u001b[0m\u001b[0;34m\"can't convert expression to float\"\u001b[0m\u001b[0;34m)\u001b[0m\u001b[0;34m\u001b[0m\u001b[0;34m\u001b[0m\u001b[0m\n\u001b[0m\u001b[1;32m    360\u001b[0m \u001b[0;34m\u001b[0m\u001b[0m\n\u001b[1;32m    361\u001b[0m     \u001b[0;32mdef\u001b[0m \u001b[0m__complex__\u001b[0m\u001b[0;34m(\u001b[0m\u001b[0mself\u001b[0m\u001b[0;34m)\u001b[0m\u001b[0;34m:\u001b[0m\u001b[0;34m\u001b[0m\u001b[0;34m\u001b[0m\u001b[0m\n",
      "\u001b[0;31mTypeError\u001b[0m: can't convert expression to float"
     ]
    }
   ],
   "source": [
    "mu_homogeneous_guess1(ζ, sqrt_S, cgo, β, θ_M, ϵ = 1/200)"
   ]
  },
  {
   "cell_type": "code",
   "execution_count": null,
   "id": "36501f0a",
   "metadata": {},
   "outputs": [],
   "source": []
  }
 ],
 "metadata": {
  "kernelspec": {
   "display_name": "Python 3 (ipykernel)",
   "language": "python",
   "name": "python3"
  },
  "language_info": {
   "codemirror_mode": {
    "name": "ipython",
    "version": 3
   },
   "file_extension": ".py",
   "mimetype": "text/x-python",
   "name": "python",
   "nbconvert_exporter": "python",
   "pygments_lexer": "ipython3",
   "version": "3.9.7"
  }
 },
 "nbformat": 4,
 "nbformat_minor": 5
}
